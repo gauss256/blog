{
 "cells": [
  {
   "cell_type": "markdown",
   "metadata": {},
   "source": [
    "# Overlap-add processing in the time domain\n",
    "\n",
    "In which we explore the boundaries of invertibility of overlap-add (OLA) in the time domain. In [this blog post](https://gauss256.github.io/blog/cola.html) we show that a time-domain signal $t$ can be recovered from its windowed frames $\\{x_t\\}$ by the formula\n",
    "\n",
    "$$x[n]=\\frac{\\sum_{t=-\\infty}^{\\infty}x_{t}[n]w^{a}[n-tH]}{\\sum_{t=-\\infty}^{\\infty}w^{a+1}[n-tH]}\\tag{1}$$\n",
    "\n",
    "where $a$ is a constant that is usually chosen as $a=1$."
   ]
  },
  {
   "cell_type": "code",
   "execution_count": 29,
   "metadata": {},
   "outputs": [],
   "source": [
    "%matplotlib inline\n",
    "\n",
    "from matplotlib import pyplot as plt\n",
    "import numpy as np\n",
    "from scipy import signal"
   ]
  },
  {
   "cell_type": "markdown",
   "metadata": {},
   "source": [
    "## Prepare the frames"
   ]
  },
  {
   "cell_type": "code",
   "execution_count": 30,
   "metadata": {},
   "outputs": [],
   "source": [
    "# Parameters\n",
    "L = 2 * 1024  # signal length\n",
    "N = 256  # frame length\n",
    "H = 128  # hop size\n",
    "a = 1  # exponent of window function\n",
    "window = \"hann\"\n",
    "boundary = True  # needs to be true to recover x[0], x[-1]\n",
    "padding = True  # pad to avoid dropping a short frame at the end"
   ]
  },
  {
   "cell_type": "code",
   "execution_count": 31,
   "metadata": {},
   "outputs": [],
   "source": [
    "# Create random data\n",
    "x = np.random.uniform(-1, 1, L)"
   ]
  },
  {
   "cell_type": "code",
   "execution_count": 32,
   "metadata": {},
   "outputs": [
    {
     "name": "stdout",
     "output_type": "stream",
     "text": [
      "Padding applied\n"
     ]
    }
   ],
   "source": [
    "# Add padding\n",
    "if padding:\n",
    "    nshort = (L - N) % H\n",
    "    if nshort != 0:\n",
    "        extend = np.zeros(H - nshort, dtype=x.dtype)\n",
    "        x = np.concatenate((x, extend))\n",
    "    print(f\"Padding applied\")"
   ]
  },
  {
   "cell_type": "code",
   "execution_count": 33,
   "metadata": {},
   "outputs": [
    {
     "name": "stdout",
     "output_type": "stream",
     "text": [
      "Boundary applied\n"
     ]
    }
   ],
   "source": [
    "# Add boundary\n",
    "if boundary:\n",
    "    nbdry = N // 2\n",
    "    bdry = np.zeros(nbdry, dtype=x.dtype)\n",
    "    x = np.concatenate((bdry, x, bdry))\n",
    "    print(f\"Boundary applied\")"
   ]
  },
  {
   "cell_type": "code",
   "execution_count": 34,
   "metadata": {},
   "outputs": [],
   "source": [
    "# Create window\n",
    "w = signal.get_window(window, N + 2, False)[1:-1]"
   ]
  },
  {
   "cell_type": "code",
   "execution_count": 35,
   "metadata": {},
   "outputs": [],
   "source": [
    "# Create windowed frames\n",
    "nframes = 1 + (len(x) - N) // H\n",
    "frames = np.array([x[t * H:t * H + N] * w for t in range(nframes)])"
   ]
  },
  {
   "cell_type": "markdown",
   "metadata": {},
   "source": [
    "## Invert the frames"
   ]
  },
  {
   "cell_type": "code",
   "execution_count": 36,
   "metadata": {},
   "outputs": [],
   "source": [
    "# Invert using overlap-add\n",
    "y = np.zeros_like(x)  # unnormalized reconstructed frames\n",
    "d = np.zeros_like(x)  # normalization factors (denominator)\n",
    "for t, frame in enumerate(frames):\n",
    "    y[t * H:t * H + N] += frame * w**a\n",
    "    d[t * H:t * H + N] += w**(a+1)"
   ]
  },
  {
   "cell_type": "code",
   "execution_count": 37,
   "metadata": {},
   "outputs": [],
   "source": [
    "# Compensate for boundary and padding\n",
    "if boundary:\n",
    "    x = x[nbdry:-nbdry]\n",
    "    y = y[nbdry:-nbdry]\n",
    "    d = d[nbdry:-nbdry]\n",
    "if padding:\n",
    "    x = x[:L]\n",
    "    y = y[:L]\n",
    "    d = d[:L]"
   ]
  },
  {
   "cell_type": "code",
   "execution_count": 38,
   "metadata": {
    "scrolled": true
   },
   "outputs": [],
   "source": [
    "# Normalize the inverted frames\n",
    "tol = 1e-7\n",
    "dnz = np.where(np.abs(d) > 1e-7)  # denominator not zero\n",
    "z = y.copy()\n",
    "z[dnz] /= d[dnz]  # y is not normalized, z is normalized"
   ]
  },
  {
   "cell_type": "markdown",
   "metadata": {},
   "source": [
    "## Check whether inversion was successful"
   ]
  },
  {
   "cell_type": "code",
   "execution_count": 39,
   "metadata": {},
   "outputs": [
    {
     "name": "stdout",
     "output_type": "stream",
     "text": [
      "Is unnormalized close? False\n",
      "Is normalized close?   True\n"
     ]
    }
   ],
   "source": [
    "# Check for successful inversion\n",
    "# We'll allow for the possibility that y = c * x for some constant c\n",
    "c = np.sum(x * y) / np.sum(x * x)  # optimal least-squares estimate for c\n",
    "print(f\"Is unnormalized close? {np.allclose(y, c * x)}\")\n",
    "print(f\"Is normalized close?   {np.allclose(z, x)}\")"
   ]
  },
  {
   "cell_type": "markdown",
   "metadata": {},
   "source": [
    "## Plot the normalization values\n",
    "\n",
    "As the plot below shows, the normalization values vary a lot with $n$."
   ]
  },
  {
   "cell_type": "code",
   "execution_count": 41,
   "metadata": {},
   "outputs": [
    {
     "name": "stdout",
     "output_type": "stream",
     "text": [
      "d min: 0.51\n",
      "d max: 1.00\n"
     ]
    },
    {
     "data": {
      "image/png": "[encoded data removed]",
      "text/plain": [
       "<matplotlib.figure.Figure at 0x7fb4560b4550>"
      ]
     },
     "metadata": {},
     "output_type": "display_data"
    }
   ],
   "source": [
    "print(f\"d min: {np.min(d):0.2f}\")\n",
    "print(f\"d max: {np.max(d):0.2f}\")\n",
    "plt.plot(d)\n",
    "plt.title(\"Normalization Factors\")\n",
    "plt.xlabel(\"$n$\")\n",
    "plt.ylabel(\"$d$\")\n",
    "plt.show()"
   ]
  },
  {
   "cell_type": "markdown",
   "metadata": {},
   "source": [
    "## Summary and conclusion\n",
    "\n",
    "For most choices of the window $w$, overlap-add will _not_ recover $x$ exactly unless the proper normalization factors are applied and some care is taken to handle values at the boundaries. But when equation (1) is applied along with judicious padding, we can recover $x$ exactly for a wide variety of window and overlap configurations."
   ]
  },
  {
   "cell_type": "code",
   "execution_count": null,
   "metadata": {},
   "outputs": [],
   "source": []
  }
 ],
 "metadata": {
  "kernelspec": {
   "display_name": "Python 3",
   "language": "python",
   "name": "python3"
  },
  "language_info": {
   "codemirror_mode": {
    "name": "ipython",
    "version": 3
   },
   "file_extension": ".py",
   "mimetype": "text/x-python",
   "name": "python",
   "nbconvert_exporter": "python",
   "pygments_lexer": "ipython3",
   "version": "3.6.4"
  }
 },
 "nbformat": 4,
 "nbformat_minor": 2
}
